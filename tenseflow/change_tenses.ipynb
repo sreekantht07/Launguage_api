{
 "cells": [
  {
   "cell_type": "code",
   "execution_count": 186,
   "metadata": {
    "collapsed": true
   },
   "outputs": [],
   "source": [
    "from spacy.en import English\n",
    "from spacy.symbols import nsubj, VERB\n",
    "from pattern.en import conjugate, PAST, PRESENT, tenses, parse, pprint, parsetree, SINGULAR, PLURAL\n",
    "from itertools import tee\n",
    "import string\n",
    "from HTMLParser import HTMLParser"
   ]
  },
  {
   "cell_type": "code",
   "execution_count": 2,
   "metadata": {
    "collapsed": false,
    "deletable": true,
    "editable": true
   },
   "outputs": [],
   "source": [
    "from_tense = 'past'\n",
    "to_tense = 'present'\n",
    "\n",
    "from_tense_lookup = {\n",
    "    'past':'VBD',\n",
    "    'present':'VBP',\n",
    "    'future':'VB'\n",
    "}\n",
    "form_key = from_tense_lookup[from_tense]\n",
    "\n",
    "\n",
    "to_tense_lookup = {\n",
    "    'present' : PRESENT,\n",
    "    'past' : PAST\n",
    "}\n",
    "to_key = to_tense_lookup[to_tense]\n",
    "\n",
    "    \n"
   ]
  },
  {
   "cell_type": "code",
   "execution_count": null,
   "metadata": {
    "collapsed": true
   },
   "outputs": [],
   "source": [
    "def pairwise(iterable):\n",
    "    \"s -> (s0,s1), (s1,s2), (s2, s3), ...\"\n",
    "    a, b = tee(iterable)\n",
    "    next(b, None)\n",
    "    return zip(a, b)"
   ]
  },
  {
   "cell_type": "code",
   "execution_count": 41,
   "metadata": {
    "collapsed": false,
    "deletable": true,
    "editable": true
   },
   "outputs": [],
   "source": [
    "def change_tense(text, to_tense):\n",
    "    sentences = parse(text).split()\n",
    "    out = []\n",
    "    for sentence in sentences:\n",
    "        out.append(sentence[0][0])\n",
    "        for word_pair in pairwise(sentence):\n",
    "            if (word_pair[0][0] == 'will' and word_pair[1][1] == 'VB') \\\n",
    "            or word_pair[1][1] == 'VBD' or word_pair[1][1] == 'VBP':\n",
    "                if to_tense == 'present':\n",
    "                    out.append(conjugate(word_pair[1][0],tense=PRESENT))\n",
    "                elif to_tense == 'past':\n",
    "                    out.append(conjugate(word_pair[1][0],tense=PAST))\n",
    "                elif to_tense == 'future':\n",
    "                    out.append('will')\n",
    "                    out.append(conjugate(word_pair[1][0],'inf'))\n",
    "            elif word_pair[1][0] == 'will'and word_pair[1][1] == 'MD':\n",
    "                pass\n",
    "            else:\n",
    "                out.append(word_pair[1][0])\n",
    "\n",
    "    text_out = ' '.join(out)\n",
    "    \n",
    "    for char in string.punctuation:\n",
    "        if char in \"\"\"(<['‘\"\"\":\n",
    "            text_out = text_out.replace(char+' ',char)\n",
    "        else:\n",
    "            text_out = text_out.replace(' '+char,char)\n",
    "\n",
    "    text_out = text_out.replace(\" 's\",\"'s\") #fix posessive 's\n",
    "    \n",
    "    #unicode(text_out).replace(\"\"\"‘ \"\"\", \"\"\"‘\"\"\")\n",
    "    return text_out\n"
   ]
  },
  {
   "cell_type": "code",
   "execution_count": 198,
   "metadata": {
    "collapsed": false,
    "deletable": true,
    "editable": true
   },
   "outputs": [
    {
     "name": "stdout",
     "output_type": "stream",
     "text": [
      "Alice was beginning to get very tired of sitting by her sister on the bank and of having nothing to do: once or twice she had peeped into the book her sister was reading, but it had no pictures or conversations in it, ‘and what is the use of a book,’ thought Alice ‘without pictures or conversations?’ So she was considering in her own mind (as well as she could, for the hot day made her feel very sleepy and stupid), whether the pleasure of making a daisy-chain would be worth the trouble of getting up and picking the daisies, when suddenly White Rabbit with pink eyes ran close by her.\n"
     ]
    }
   ],
   "source": [
    "text = u\"Alice was beginning to get very tired of sitting by her sister \\\n",
    "on the bank and of having nothing to do: once or twice she had \\\n",
    "peeped into the book her sister was reading, but it had no pictures \\\n",
    "or conversations in it, ‘and what is the use of a book,’ thought \\\n",
    "Alice ‘without pictures or conversations?’ So she was considering \\\n",
    "in her own mind (as well as she could, for the hot day made her feel \\\n",
    "very sleepy and stupid), whether the pleasure of making a daisy-chain \\\n",
    "would be worth the trouble of getting up and picking the daisies, when \\\n",
    "suddenly White Rabbit with pink eyes ran close by her.\"\n",
    "print HTMLParser().unescape(text)"
   ]
  },
  {
   "cell_type": "code",
   "execution_count": 180,
   "metadata": {
    "collapsed": false
   },
   "outputs": [
    {
     "name": "stdout",
     "output_type": "stream",
     "text": [
      "Alice is beginning to get very tired of sitting by her sister on the bank and of having nothing to do: once or twice she has peeped into the book her sister is reading, but it has no pictures or conversations in it, ‘ and what is the use of a book, ’ thought Alice ‘ without pictures or conversations? ’ So she is considering in her own mind (as well as she could, for the hot day makes her feel very sleepy and stupid), whether the pleasure of making a daisy-chain would be worth the trouble of getting up and picking the daisies, when suddenly White Rabbit with pink eyes runs close by her.\n"
     ]
    }
   ],
   "source": [
    "print(change_tense(text,\"present\"))"
   ]
  },
  {
   "cell_type": "markdown",
   "metadata": {},
   "source": [
    "Here 'thought' was not changed. Let's check if it was labeled as a noun."
   ]
  },
  {
   "cell_type": "code",
   "execution_count": 181,
   "metadata": {
    "collapsed": false
   },
   "outputs": [
    {
     "data": {
      "text/plain": [
       "[[u'thought', u'JJ', u'I-NP', u'O']]"
      ]
     },
     "execution_count": 181,
     "metadata": {},
     "output_type": "execute_result"
    }
   ],
   "source": [
    "sentences = parse(text).split()\n",
    "[x for x in sentences[0] if x[0] == 'thought']"
   ]
  },
  {
   "cell_type": "markdown",
   "metadata": {},
   "source": [
    "Yup, it's labeled as a noun phrase (NP). Let's try the spaCy parser."
   ]
  },
  {
   "cell_type": "code",
   "execution_count": 182,
   "metadata": {
    "collapsed": false
   },
   "outputs": [
    {
     "data": {
      "text/plain": [
       "u'VBD'"
      ]
     },
     "execution_count": 182,
     "metadata": {},
     "output_type": "execute_result"
    }
   ],
   "source": [
    "nlp = English()\n",
    "doc=nlp(text)\n",
    "[x for x in list(doc.sents)[0] if x.text == 'thought'][0].tag_"
   ]
  },
  {
   "cell_type": "markdown",
   "metadata": {},
   "source": [
    "Well that's good, spaCy got it right! Let's build the same parser, but using spaCy instead of pattern."
   ]
  },
  {
   "cell_type": "code",
   "execution_count": 191,
   "metadata": {
    "collapsed": false
   },
   "outputs": [],
   "source": [
    "def change_tense_spaCy(text, to_tense):\n",
    "    \n",
    "    doc = nlp(unicode(text))\n",
    "    \n",
    "    out = []\n",
    "    out.append(doc[0].text)\n",
    "    for word_pair in pairwise(doc):\n",
    "        if (word_pair[0].string == 'will' and word_pair[1].pos_ == u'VERB') \\\n",
    "        or word_pair[1].tag_ == u'VBD' or word_pair[1].tag_ == u'VBP':\n",
    "            if to_tense == 'present':\n",
    "                out.append(conjugate(word_pair[1].text, PRESENT))\n",
    "            elif to_tense == 'past':\n",
    "                out.append(conjugate(word_pair[1].text, PAST))\n",
    "            elif to_tense == 'future':\n",
    "                out.append('will')\n",
    "                out.append(conjugate(word_pair[1].text, 'inf'))\n",
    "\n",
    "            elif word_pair[1].text == 'will' and word_pair[1].tag_ == 'MD':\n",
    "                pass\n",
    "        else:\n",
    "            out.append(word_pair[1].text)\n",
    "\n",
    "\n",
    "    text_out = ' '.join(out)\n",
    "\n",
    "    for char in string.punctuation:\n",
    "        if char in \"\"\"(<['‘\"\"\":\n",
    "            text_out = text_out.replace(char+' ',char)\n",
    "        else:\n",
    "            text_out = text_out.replace(' '+char,char)\n",
    "\n",
    "    text_out = text_out.replace(\" 's\",\"'s\") #fix posessive 's\n",
    "    \n",
    "    return text_out\n",
    "        "
   ]
  },
  {
   "cell_type": "code",
   "execution_count": 192,
   "metadata": {
    "collapsed": false
   },
   "outputs": [
    {
     "name": "stdout",
     "output_type": "stream",
     "text": [
      "Alice is beginning to get very tired of sitting by her sister on the bank and of having nothing to do: once or twice she has peeped into the book her sister is reading, but it has no pictures or conversations in it, ‘ and what is the use of a book,’ thinks Alice ‘ without pictures or conversations?’ So she is considering in her own mind (as well as she could, for the hot day makes her feel very sleepy and stupid), whether the pleasure of making a daisy- chain would be worth the trouble of getting up and picking the daisies, when suddenly White Rabbit with pink eyes runs close by her.\n"
     ]
    }
   ],
   "source": [
    "print(change_tense_spaCy(text, 'present'))"
   ]
  },
  {
   "cell_type": "code",
   "execution_count": 185,
   "metadata": {
    "collapsed": false
   },
   "outputs": [
    {
     "name": "stdout",
     "output_type": "stream",
     "text": [
      "Alice will be beginning to get very tired of sitting by her sister on the bank and of having nothing to do: once or twice she will have peeped into the book her sister will be reading, but it will have no pictures or conversations in it, ‘ and what is the use of a book,’ will think Alice ‘ without pictures or conversations?’ So she will be considering in her own mind (as well as she could, for the hot day will make her feel very sleepy and stupid), whether the pleasure of making a daisy- chain would be worth the trouble of getting up and picking the daisies, when suddenly White Rabbit with pink eyes will run close by her.\n"
     ]
    }
   ],
   "source": [
    "print(change_tense_spaCy(text,\"future\"))"
   ]
  },
  {
   "cell_type": "markdown",
   "metadata": {},
   "source": [
    "Looking good! However, it will fail if we make the following change to the last sentence:"
   ]
  },
  {
   "cell_type": "code",
   "execution_count": 163,
   "metadata": {
    "collapsed": false
   },
   "outputs": [
    {
     "data": {
      "text/plain": [
       "u'White rabbits with pink eyes runs close by her.'"
      ]
     },
     "execution_count": 163,
     "metadata": {},
     "output_type": "execute_result"
    }
   ],
   "source": [
    "text = \"White rabbits with pink eyes ran close by her.\"\n",
    "change_tense_spaCy(text, 'present')"
   ]
  },
  {
   "cell_type": "markdown",
   "metadata": {},
   "source": [
    "This fails because the verb \"ran\" confujates to \"runs\" if the subject is singular, but conjugates to \"run\" if the subject is plural. To fix this, we'll have to figure out a way to tell the verb the number of its subject."
   ]
  },
  {
   "cell_type": "code",
   "execution_count": 195,
   "metadata": {
    "collapsed": false
   },
   "outputs": [],
   "source": [
    "from spacy.symbols import NOUN\n",
    "\n",
    "SUBJ_DEPS = {'agent', 'csubj', 'csubjpass', 'expl', 'nsubj', 'nsubjpass'}\n",
    "\n",
    "def _get_conjuncts(tok):\n",
    "    \"\"\"\n",
    "    Return conjunct dependents of the leftmost conjunct in a coordinated phrase,\n",
    "    e.g. \"Burton, [Dan], and [Josh] ...\".\n",
    "    \"\"\"\n",
    "    return [right for right in tok.rights\n",
    "            if right.dep_ == 'conj']\n",
    "\n",
    "def is_plural_noun(token):\n",
    "    \"\"\"\n",
    "    Returns True if token is a plural noun, False otherwise.\n",
    "\n",
    "    Args:\n",
    "        token (``spacy.Token``): parent document must have POS information\n",
    "\n",
    "    Returns:\n",
    "        bool\n",
    "    \"\"\"\n",
    "    if token.doc.is_tagged is False:\n",
    "        raise ValueError('token is not POS-tagged')\n",
    "    return True if token.pos == NOUN and token.lemma != token.lower else False\n",
    "\n",
    "def get_subjects_of_verb(verb):\n",
    "    \"\"\"Return all subjects of a verb according to the dependency parse.\"\"\"\n",
    "    subjs = [tok for tok in verb.lefts\n",
    "             if tok.dep_ in SUBJ_DEPS]\n",
    "    # get additional conjunct subjects\n",
    "    subjs.extend(tok for subj in subjs for tok in _get_conjuncts(subj))\n",
    "    return subjs\n",
    "\n",
    "def is_plural_verb(token):\n",
    "    if token.doc.is_tagged is False:\n",
    "        raise ValueError('token is not POS-tagged')\n",
    "    subjects = get_subjects_of_verb(token)\n",
    "    plural_score = sum([is_plural_noun(x) for x in subjects])/len(subjects)\n",
    "    \n",
    "    return plural_score > .5\n"
   ]
  },
  {
   "cell_type": "code",
   "execution_count": 175,
   "metadata": {
    "collapsed": true
   },
   "outputs": [],
   "source": [
    "conjugate??"
   ]
  },
  {
   "cell_type": "code",
   "execution_count": 199,
   "metadata": {
    "collapsed": true
   },
   "outputs": [],
   "source": [
    "def change_tense_spaCy(text, to_tense):\n",
    "    \n",
    "    doc = nlp(unicode(text))\n",
    "    \n",
    "    out = []\n",
    "    out.append(doc[0].text)\n",
    "    for word_pair in pairwise(doc):\n",
    "        if (word_pair[0].string == 'will' and word_pair[1].pos_ == u'VERB') \\\n",
    "        or word_pair[1].tag_ == u'VBD' or word_pair[1].tag_ == u'VBP':\n",
    "            if to_tense == 'present':\n",
    "                if is_plural_verb(word_pair[1]):\n",
    "                    out.append(conjugate(word_pair[1].text, PRESENT, None, PLURAL))\n",
    "                else:\n",
    "                    out.append(conjugate(word_pair[1].text, PRESENT))\n",
    "            elif to_tense == 'past':\n",
    "                out.append(conjugate(word_pair[1].text, PAST))\n",
    "            elif to_tense == 'future':\n",
    "                out.append('will')\n",
    "                out.append(conjugate(word_pair[1].text, 'inf'))\n",
    "\n",
    "            elif word_pair[1].text == 'will' and word_pair[1].tag_ == 'MD':\n",
    "                pass\n",
    "        else:\n",
    "            out.append(word_pair[1].text)\n",
    "\n",
    "\n",
    "    text_out = ' '.join(out)\n",
    "\n",
    "    for char in string.punctuation:\n",
    "        if char in \"\"\"(<['‘\"\"\":\n",
    "            text_out = text_out.replace(char+' ',char)\n",
    "        else:\n",
    "            text_out = text_out.replace(' '+char,char)\n",
    "\n",
    "    text_out = text_out.replace(\" 's\",\"'s\") #fix posessive 's\n",
    "    \n",
    "    return text_out"
   ]
  },
  {
   "cell_type": "code",
   "execution_count": 202,
   "metadata": {
    "collapsed": false
   },
   "outputs": [
    {
     "data": {
      "text/plain": [
       "u'Rabbits with white fur run close by her.'"
      ]
     },
     "execution_count": 202,
     "metadata": {},
     "output_type": "execute_result"
    }
   ],
   "source": [
    "text_plural_check = \"Rabbits with white fur ran close by her.\"\n",
    "change_tense_spaCy(text_plural_check, 'present')"
   ]
  },
  {
   "cell_type": "code",
   "execution_count": null,
   "metadata": {
    "collapsed": true
   },
   "outputs": [],
   "source": []
  },
  {
   "cell_type": "code",
   "execution_count": null,
   "metadata": {
    "collapsed": true
   },
   "outputs": [],
   "source": [
    "nlp = English()\n",
    "sent = u\"I was shooting an elephant\"\n",
    "doc=nlp(sent)\n",
    "\n",
    "sub_toks = [tok for tok in doc if (tok.dep_ == \"nsubj\") ]\n",
    "\n",
    "print(sub_toks) \n",
    "\n",
    "# Finding a verb with a subject from below — good\n",
    "verbs = set()\n",
    "for possible_subject in doc:\n",
    "    if possible_subject.dep == nsubj and possible_subject.head.pos == VERB:\n",
    "        verbs.add((possible_subject, possible_subject.head))\n",
    "        \n",
    "verbs"
   ]
  },
  {
   "cell_type": "code",
   "execution_count": 159,
   "metadata": {
    "collapsed": false
   },
   "outputs": [],
   "source": []
  },
  {
   "cell_type": "code",
   "execution_count": 15,
   "metadata": {
    "collapsed": true,
    "deletable": true,
    "editable": true
   },
   "outputs": [],
   "source": [
    "text2 = \"We will see about that\""
   ]
  },
  {
   "cell_type": "code",
   "execution_count": 16,
   "metadata": {
    "collapsed": true,
    "deletable": true,
    "editable": true
   },
   "outputs": [],
   "source": [
    "sentences = parse(text2).split()"
   ]
  },
  {
   "cell_type": "code",
   "execution_count": 17,
   "metadata": {
    "collapsed": false,
    "deletable": true,
    "editable": true
   },
   "outputs": [
    {
     "data": {
      "text/plain": [
       "[[[u'We', u'PRP', u'B-NP', u'O'],\n",
       "  [u'will', u'MD', u'B-VP', u'O'],\n",
       "  [u'see', u'VB', u'I-VP', u'O'],\n",
       "  [u'about', u'IN', u'B-PP', u'O'],\n",
       "  [u'that', u'DT', u'O', u'O']]]"
      ]
     },
     "execution_count": 17,
     "metadata": {},
     "output_type": "execute_result"
    }
   ],
   "source": [
    "sentences"
   ]
  },
  {
   "cell_type": "code",
   "execution_count": 18,
   "metadata": {
    "collapsed": false,
    "deletable": true,
    "editable": true
   },
   "outputs": [
    {
     "name": "stdout",
     "output_type": "stream",
     "text": [
      "          WORD   TAG    CHUNK   ROLE   ID     PNP    LEMMA   \n",
      "                                                             \n",
      "             I   PRP    NP      -      -      -      -       \n",
      "          walk   VBP    VP      -      -      -      -       \n",
      "            to   TO     -       -      -      -      -       \n",
      "           the   DT     NP      -      -      -      -       \n",
      "         store   NN     NP ^    -      -      -      -       \n"
     ]
    }
   ],
   "source": [
    "pprint(parsetree(\"I walk to the store\"))"
   ]
  },
  {
   "cell_type": "code",
   "execution_count": 19,
   "metadata": {
    "collapsed": false,
    "deletable": true,
    "editable": true
   },
   "outputs": [
    {
     "data": {
      "text/plain": [
       "([u'We', u'PRP', u'B-NP', u'O'], [u'will', u'MD', u'B-VP', u'O'])"
      ]
     },
     "execution_count": 19,
     "metadata": {},
     "output_type": "execute_result"
    }
   ],
   "source": [
    "pairwise(sentences[0])[0]"
   ]
  },
  {
   "cell_type": "code",
   "execution_count": 20,
   "metadata": {
    "collapsed": false,
    "deletable": true,
    "editable": true
   },
   "outputs": [
    {
     "data": {
      "text/plain": [
       "[[[u'I', u'PRP', u'B-NP', u'O'],\n",
       "  [u'will', u'MD', u'B-VP', u'O'],\n",
       "  [u'walk', u'VB', u'I-VP', u'O']]]"
      ]
     },
     "execution_count": 20,
     "metadata": {},
     "output_type": "execute_result"
    }
   ],
   "source": [
    "parse(\"I will walk\").split()"
   ]
  },
  {
   "cell_type": "code",
   "execution_count": 204,
   "metadata": {
    "collapsed": false,
    "deletable": true,
    "editable": true
   },
   "outputs": [
    {
     "data": {
      "text/plain": [
       "\"Dr. Dichter's interest in community psychiatry began as a fourth year resident when he and a co-resident ran a psychiatric inpatient and outpatient program at Fort McCoy Wisconsin treating formally institutionalized chronically mentally ill Cuban refugees from the Mariel Boatlift.  He came to Philadelphia to provide short-term inpatient treatment, alleviating emergency room congestion.  There he first encountered the problems of homelessness and was particularly interested in the relationship between the homeless and their families.  Dr. Dichter has been the Director of an outpatient department and inpatient unit, as well as the Director of Family Therapy at AEMC.  His work with families focused on the impact of chronic mental illness on the family system.  He was the first Medical Director for a Medicaid Managed Care Organization and has consulted with SAMHSA, CMS and several states assisting them to monitor access and quality of care for their public patients.  He currently is the Medical Director for Pathways to Housing PA, where he has assists chronically homeless to maintain stable housing and recover from the ravages of mental illness and substance abuse.\""
      ]
     },
     "execution_count": 204,
     "metadata": {},
     "output_type": "execute_result"
    }
   ],
   "source": [
    "\n",
    "text2 = \"\"\"Dr. Dichter's interest in community psychiatry began as a fourth year resident when he and a co-resident ran a psychiatric inpatient and outpatient program at Fort McCoy Wisconsin treating formally institutionalized chronically mentally ill Cuban refugees from the Mariel Boatlift.  He came to Philadelphia to provide short-term inpatient treatment, alleviating emergency room congestion.  There he first encountered the problems of homelessness and was particularly interested in the relationship between the homeless and their families.  Dr. Dichter has been the Director of an outpatient department and inpatient unit, as well as the Director of Family Therapy at AEMC.  His work with families focused on the impact of chronic mental illness on the family system.  He was the first Medical Director for a Medicaid Managed Care Organization and has consulted with SAMHSA, CMS and several states assisting them to monitor access and quality of care for their public patients.  He currently is the Medical Director for Pathways to Housing PA, where he has assists chronically homeless to maintain stable housing and recover from the ravages of mental illness and substance abuse.\"\"\"\n",
    "text2"
   ]
  },
  {
   "cell_type": "code",
   "execution_count": 209,
   "metadata": {
    "collapsed": false,
    "deletable": true,
    "editable": true
   },
   "outputs": [
    {
     "data": {
      "text/plain": [
       "u\"Dr. Dichter's interest in community psychiatry will begin as a fourth year resident when he and a co- resident will run a psychiatric inpatient and outpatient program at Fort McCoy Wisconsin treating formally institutionalized chronically mentally ill Cuban refugees from the Mariel Boatlift.   He will come to Philadelphia to provide short- term inpatient treatment, alleviating emergency room congestion.   There he first will encounter the problems of homelessness and will be particularly interested in the relationship between the homeless and their families.   Dr. Dichter has been the Director of an outpatient department and inpatient unit, as well as the Director of Family Therapy at AEMC.   His work with families focused on the impact of chronic mental illness on the family system.   He will be the first Medical Director for a Medicaid Managed Care Organization and has consulted with SAMHSA, CMS and several states assisting them to monitor access and quality of care for their public patients.   He currently is the Medical Director for Pathways to Housing PA, where he has assists chronically homeless to maintain stable housing and recover from the ravages of mental illness and substance abuse.\""
      ]
     },
     "execution_count": 209,
     "metadata": {},
     "output_type": "execute_result"
    }
   ],
   "source": [
    "change_tense_spaCy(text2,'future')"
   ]
  },
  {
   "cell_type": "code",
   "execution_count": 18,
   "metadata": {
    "collapsed": false,
    "deletable": true,
    "editable": true
   },
   "outputs": [
    {
     "data": {
      "text/plain": [
       "u'Dr. Dichter interest in community psychiatry began as a fourth year resident he and a co-resident ran a psychiatric inpatient outpatient program at Fort McCoy Wisconsin treating formally institutionalized chronically mentally ill Cuban refugees from the Mariel Boatlift'"
      ]
     },
     "execution_count": 18,
     "metadata": {},
     "output_type": "execute_result"
    }
   ],
   "source": [
    "s = parsetree(text2,relations=True)[0]\n",
    "' '.join([chunk.string for chunk in s.chunks])"
   ]
  },
  {
   "cell_type": "code",
   "execution_count": 19,
   "metadata": {
    "collapsed": false,
    "deletable": true,
    "editable": true
   },
   "outputs": [
    {
     "data": {
      "text/plain": [
       "u\"Dr. Dichter 's interest in community psychiatry began as a fourth year resident when he and a co-resident ran a psychiatric inpatient and outpatient program at Fort McCoy Wisconsin treating formally institutionalized chronically mentally ill Cuban refugees from the Mariel Boatlift .\""
      ]
     },
     "execution_count": 19,
     "metadata": {},
     "output_type": "execute_result"
    }
   ],
   "source": [
    "s.string"
   ]
  },
  {
   "cell_type": "code",
   "execution_count": 20,
   "metadata": {
    "collapsed": false,
    "deletable": true,
    "editable": true
   },
   "outputs": [
    {
     "data": {
      "text/plain": [
       "u'focus'"
      ]
     },
     "execution_count": 20,
     "metadata": {},
     "output_type": "execute_result"
    }
   ],
   "source": [
    "conjugate('focussed','inf',parse=False)"
   ]
  },
  {
   "cell_type": "code",
   "execution_count": 21,
   "metadata": {
    "collapsed": false,
    "deletable": true,
    "editable": true
   },
   "outputs": [
    {
     "data": {
      "text/plain": [
       "[('past', None, None, 'indicative', 'imperfective'),\n",
       " ('past', None, None, 'indicative', 'progressive'),\n",
       " ('past', None, 'plural', 'indicative', 'imperfective'),\n",
       " ('past', 1, 'plural', 'indicative', 'imperfective'),\n",
       " ('past', 1, 'singular', 'indicative', 'imperfective'),\n",
       " ('past', 2, 'plural', 'indicative', 'imperfective'),\n",
       " ('past', 2, 'singular', 'indicative', 'imperfective'),\n",
       " ('past', 3, 'plural', 'indicative', 'imperfective'),\n",
       " ('past', 3, 'singular', 'indicative', 'imperfective')]"
      ]
     },
     "execution_count": 21,
     "metadata": {},
     "output_type": "execute_result"
    }
   ],
   "source": [
    "tenses('focused')"
   ]
  },
  {
   "cell_type": "code",
   "execution_count": 65,
   "metadata": {
    "collapsed": false,
    "deletable": true,
    "editable": true
   },
   "outputs": [
    {
     "name": "stdout",
     "output_type": "stream",
     "text": [
      "Building the Grammar Model\n",
      "Time: (7.17)s\n",
      "\n",
      "(SBARQ\n",
      "  (WHADVP (WRB how))\n",
      "  (SQ\n",
      "    (MD can)\n",
      "    (NP\n",
      "      (NP (DT the) (JJ net) (NN amount))\n",
      "      (PP\n",
      "        (IN of)\n",
      "        (NP\n",
      "          (NP (NNS entropy))\n",
      "          (PP (IN of) (NP (DT the) (NN universe))))))\n",
      "    (VP (VB be) (ADJP (RB massively) (VBN decreased))))\n",
      "  (. ?))\n"
     ]
    }
   ],
   "source": [
    "from stat_parser import Parser\n",
    "parser = Parser()"
   ]
  },
  {
   "cell_type": "code",
   "execution_count": 220,
   "metadata": {
    "collapsed": false,
    "deletable": true,
    "editable": true
   },
   "outputs": [
    {
     "data": {
      "image/png": "[encoded data removed]",
      "text/plain": [
       "Tree('SBARQ', [Tree('SQ', [Tree('NP', [Tree('PRP', ['I'])]), Tree('VP', [Tree('MD', ['will']), Tree('VB', ['be']), Tree('ADVP', [Tree('RB', ['there'])])])]), Tree('.', ['.'])])"
      ]
     },
     "execution_count": 220,
     "metadata": {},
     "output_type": "execute_result"
    }
   ],
   "source": [
    "text = \"He came to Philadelphia to provide short-term inpatient treatment, alleviating emergency room congestion.\"\n",
    "text = \"I will be there.\"\n",
    "result =  parser.parse(text)\n",
    "result"
   ]
  },
  {
   "cell_type": "code",
   "execution_count": 229,
   "metadata": {
    "collapsed": false,
    "deletable": true,
    "editable": true
   },
   "outputs": [],
   "source": [
    "sentence = result\n",
    "LABELS = [x._label for x in sentence[0]]\n",
    "\n",
    "vps = [x for x in sentence[0] if x._label == 'VP']\n",
    "#verbs = x for x in vps\n"
   ]
  },
  {
   "cell_type": "code",
   "execution_count": 180,
   "metadata": {
    "collapsed": false,
    "deletable": true,
    "editable": true
   },
   "outputs": [],
   "source": [
    "WORDS,POS = zip(*result.pos())"
   ]
  },
  {
   "cell_type": "code",
   "execution_count": 230,
   "metadata": {
    "collapsed": false,
    "deletable": true,
    "editable": true
   },
   "outputs": [
    {
     "data": {
      "text/plain": [
       "[('will', u'MD'), ('be', u'VB'), ('there', u'RB')]"
      ]
     },
     "execution_count": 230,
     "metadata": {},
     "output_type": "execute_result"
    }
   ],
   "source": [
    "vps[0].pos()"
   ]
  },
  {
   "cell_type": "code",
   "execution_count": 231,
   "metadata": {
    "collapsed": false,
    "deletable": true,
    "editable": true
   },
   "outputs": [
    {
     "data": {
      "image/png": "[encoded data removed]",
      "text/plain": [
       "Tree('VP', [Tree('MD', ['will']), Tree('VB', ['be']), Tree('ADVP', [Tree('RB', ['there'])])])"
      ]
     },
     "execution_count": 231,
     "metadata": {},
     "output_type": "execute_result"
    }
   ],
   "source": [
    "vps[0]"
   ]
  },
  {
   "cell_type": "code",
   "execution_count": 162,
   "metadata": {
    "collapsed": false
   },
   "outputs": [
    {
     "data": {
      "text/plain": [
       "Suddenly white rabbits with pink eyes ran close by her."
      ]
     },
     "execution_count": 162,
     "metadata": {},
     "output_type": "execute_result"
    }
   ],
   "source": [
    "doc"
   ]
  },
  {
   "cell_type": "code",
   "execution_count": 161,
   "metadata": {
    "collapsed": false,
    "deletable": true,
    "editable": true
   },
   "outputs": [
    {
     "data": {
      "text/plain": [
       "[]"
      ]
     },
     "execution_count": 161,
     "metadata": {},
     "output_type": "execute_result"
    }
   ],
   "source": []
  },
  {
   "cell_type": "code",
   "execution_count": null,
   "metadata": {
    "collapsed": true
   },
   "outputs": [],
   "source": [
    "#fix formatting\n",
    "import string\n",
    "\n",
    "\n",
    "\n",
    "##TODO: fix spacing around single and double quotes"
   ]
  }
 ],
 "metadata": {
  "anaconda-cloud": {},
  "kernelspec": {
   "display_name": "Python 2",
   "language": "python",
   "name": "python2"
  },
  "language_info": {
   "codemirror_mode": {
    "name": "ipython",
    "version": 2
   },
   "file_extension": ".py",
   "mimetype": "text/x-python",
   "name": "python",
   "nbconvert_exporter": "python",
   "pygments_lexer": "ipython2",
   "version": "2.7.13"
  }
 },
 "nbformat": 4,
 "nbformat_minor": 0
}
